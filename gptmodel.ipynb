{
 "cells": [
  {
   "cell_type": "code",
   "execution_count": 5,
   "metadata": {},
   "outputs": [
    {
     "name": "stdout",
     "output_type": "stream",
     "text": [
      "                                               Title  \\\n",
      "0  Improving Real World RAG Systems: Key Challeng...   \n",
      "1  Framework to Choose the Right LLM for your Bus...   \n",
      "2                      Generative AI - A Way of Life   \n",
      "3  Building LLM Applications using Prompt Enginee...   \n",
      "4   Bagging and Boosting ML Algorithms - Free Course   \n",
      "\n",
      "                                         Description  \\\n",
      "0  This course explores the key challenges in bui...   \n",
      "1  This course will guide you through the process...   \n",
      "2  This course is a transformative journey tailor...   \n",
      "3  This course will provide you with a hands-on u...   \n",
      "4  This course will provide you with a hands-on u...   \n",
      "\n",
      "                                          Curriculum  \n",
      "0  Improving Real World RAG System\\nIntroduction ...  \n",
      "1  Introduction\\nIntroduction\\n2\\nIt's an LLM Wor...  \n",
      "2  Introduction to Generative AI\\nFundamentals of...  \n",
      "3  How to build diffferent LLM AppIications?\\nInt...  \n",
      "4  Bagging\\nResources to be used in this course\\n...  \n"
     ]
    }
   ],
   "source": [
    "import pandas as pd\n",
    "\n",
    "# Load your dataset (example with a CSV file)\n",
    "#df = pd.read_csv(\"courses1.csv\", encoding='utf-8', errors='ignore')  # Skips invalid characters\n",
    "data = pd.read_csv(r\"C:\\Users\\deepi\\analytics vidhya\\courses1.csv\",encoding='ISO-8859-1')\n",
    "\n",
    "# Example of dataset structure\n",
    "print(df.head())\n",
    "\n"
   ]
  },
  {
   "cell_type": "code",
   "execution_count": 8,
   "metadata": {},
   "outputs": [],
   "source": [
    "\n",
    "\n",
    "# Combine Title, Description, and Curriculum into one Tags column\n",
    "data['Tags'] = data['Title'] + ' ' + data['Description'] + ' ' + data['Curriculum']"
   ]
  },
  {
   "cell_type": "code",
   "execution_count": 9,
   "metadata": {},
   "outputs": [
    {
     "data": {
      "text/html": [
       "<div>\n",
       "<style scoped>\n",
       "    .dataframe tbody tr th:only-of-type {\n",
       "        vertical-align: middle;\n",
       "    }\n",
       "\n",
       "    .dataframe tbody tr th {\n",
       "        vertical-align: top;\n",
       "    }\n",
       "\n",
       "    .dataframe thead th {\n",
       "        text-align: right;\n",
       "    }\n",
       "</style>\n",
       "<table border=\"1\" class=\"dataframe\">\n",
       "  <thead>\n",
       "    <tr style=\"text-align: right;\">\n",
       "      <th></th>\n",
       "      <th>Title</th>\n",
       "      <th>Description</th>\n",
       "      <th>Curriculum</th>\n",
       "      <th>Tags</th>\n",
       "    </tr>\n",
       "  </thead>\n",
       "  <tbody>\n",
       "    <tr>\n",
       "      <th>0</th>\n",
       "      <td>Improving Real World RAG Systems: Key Challeng...</td>\n",
       "      <td>This course explores the key challenges in bui...</td>\n",
       "      <td>Improving Real World RAG System\\nIntroduction ...</td>\n",
       "      <td>Improving Real World RAG Systems: Key Challeng...</td>\n",
       "    </tr>\n",
       "    <tr>\n",
       "      <th>1</th>\n",
       "      <td>Framework to Choose the Right LLM for your Bus...</td>\n",
       "      <td>This course will guide you through the process...</td>\n",
       "      <td>Introduction\\nIntroduction\\n2\\nIt's an LLM Wor...</td>\n",
       "      <td>Framework to Choose the Right LLM for your Bus...</td>\n",
       "    </tr>\n",
       "    <tr>\n",
       "      <th>2</th>\n",
       "      <td>Generative AI - A Way of Life</td>\n",
       "      <td>This course is a transformative journey tailor...</td>\n",
       "      <td>Introduction to Generative AI\\nFundamentals of...</td>\n",
       "      <td>Generative AI - A Way of Life This course is a...</td>\n",
       "    </tr>\n",
       "    <tr>\n",
       "      <th>3</th>\n",
       "      <td>Building LLM Applications using Prompt Enginee...</td>\n",
       "      <td>This course will provide you with a hands-on u...</td>\n",
       "      <td>How to build diffferent LLM AppIications?\\nInt...</td>\n",
       "      <td>Building LLM Applications using Prompt Enginee...</td>\n",
       "    </tr>\n",
       "    <tr>\n",
       "      <th>4</th>\n",
       "      <td>Bagging and Boosting ML Algorithms - Free Course</td>\n",
       "      <td>This course will provide you with a hands-on u...</td>\n",
       "      <td>Bagging\\nResources to be used in this course\\n...</td>\n",
       "      <td>Bagging and Boosting ML Algorithms - Free Cour...</td>\n",
       "    </tr>\n",
       "    <tr>\n",
       "      <th>5</th>\n",
       "      <td>Understanding Linear Regression - Free Course</td>\n",
       "      <td>This free course will help you understand the ...</td>\n",
       "      <td>Linear Regression\\nIntroduction to the Problem...</td>\n",
       "      <td>Understanding Linear Regression - Free Course ...</td>\n",
       "    </tr>\n",
       "    <tr>\n",
       "      <th>6</th>\n",
       "      <td>Building Your First Computer Vision Model - Fr...</td>\n",
       "      <td>This course will help you gain a deep understa...</td>\n",
       "      <td>Introduction to Computer Vision\\nPixel Perfect...</td>\n",
       "      <td>Building Your First Computer Vision Model - Fr...</td>\n",
       "    </tr>\n",
       "    <tr>\n",
       "      <th>7</th>\n",
       "      <td>MidJourney: From Inspiration to Implementation...</td>\n",
       "      <td>This course will provide you with a practical ...</td>\n",
       "      <td>MidJourney\\nMidJourney - Storm _ Story\\nMidJou...</td>\n",
       "      <td>MidJourney: From Inspiration to Implementation...</td>\n",
       "    </tr>\n",
       "    <tr>\n",
       "      <th>8</th>\n",
       "      <td>Building Smarter LLMs with Mamba and State Spa...</td>\n",
       "      <td>Unlock the Power of State Space Models (SSM) l...</td>\n",
       "      <td>Course Overview\\nCourse Overview\\n2\\nAn Altern...</td>\n",
       "      <td>Building Smarter LLMs with Mamba and State Spa...</td>\n",
       "    </tr>\n",
       "  </tbody>\n",
       "</table>\n",
       "</div>"
      ],
      "text/plain": [
       "                                               Title  \\\n",
       "0  Improving Real World RAG Systems: Key Challeng...   \n",
       "1  Framework to Choose the Right LLM for your Bus...   \n",
       "2                      Generative AI - A Way of Life   \n",
       "3  Building LLM Applications using Prompt Enginee...   \n",
       "4   Bagging and Boosting ML Algorithms - Free Course   \n",
       "5      Understanding Linear Regression - Free Course   \n",
       "6  Building Your First Computer Vision Model - Fr...   \n",
       "7  MidJourney: From Inspiration to Implementation...   \n",
       "8  Building Smarter LLMs with Mamba and State Spa...   \n",
       "\n",
       "                                         Description  \\\n",
       "0  This course explores the key challenges in bui...   \n",
       "1  This course will guide you through the process...   \n",
       "2  This course is a transformative journey tailor...   \n",
       "3  This course will provide you with a hands-on u...   \n",
       "4  This course will provide you with a hands-on u...   \n",
       "5  This free course will help you understand the ...   \n",
       "6  This course will help you gain a deep understa...   \n",
       "7  This course will provide you with a practical ...   \n",
       "8  Unlock the Power of State Space Models (SSM) l...   \n",
       "\n",
       "                                          Curriculum  \\\n",
       "0  Improving Real World RAG System\\nIntroduction ...   \n",
       "1  Introduction\\nIntroduction\\n2\\nIt's an LLM Wor...   \n",
       "2  Introduction to Generative AI\\nFundamentals of...   \n",
       "3  How to build diffferent LLM AppIications?\\nInt...   \n",
       "4  Bagging\\nResources to be used in this course\\n...   \n",
       "5  Linear Regression\\nIntroduction to the Problem...   \n",
       "6  Introduction to Computer Vision\\nPixel Perfect...   \n",
       "7  MidJourney\\nMidJourney - Storm _ Story\\nMidJou...   \n",
       "8  Course Overview\\nCourse Overview\\n2\\nAn Altern...   \n",
       "\n",
       "                                                Tags  \n",
       "0  Improving Real World RAG Systems: Key Challeng...  \n",
       "1  Framework to Choose the Right LLM for your Bus...  \n",
       "2  Generative AI - A Way of Life This course is a...  \n",
       "3  Building LLM Applications using Prompt Enginee...  \n",
       "4  Bagging and Boosting ML Algorithms - Free Cour...  \n",
       "5  Understanding Linear Regression - Free Course ...  \n",
       "6  Building Your First Computer Vision Model - Fr...  \n",
       "7  MidJourney: From Inspiration to Implementation...  \n",
       "8  Building Smarter LLMs with Mamba and State Spa...  "
      ]
     },
     "execution_count": 9,
     "metadata": {},
     "output_type": "execute_result"
    }
   ],
   "source": [
    "data"
   ]
  },
  {
   "cell_type": "code",
   "execution_count": 16,
   "metadata": {},
   "outputs": [],
   "source": [
    "\n"
   ]
  },
  {
   "cell_type": "code",
   "execution_count": 17,
   "metadata": {},
   "outputs": [
    {
     "name": "stderr",
     "output_type": "stream",
     "text": [
      "c:\\Users\\deepi\\AppData\\Local\\Programs\\Python\\Python311\\Lib\\site-packages\\transformers\\tokenization_utils_base.py:1617: FutureWarning: `clean_up_tokenization_spaces` was not set. It will be set to `True` by default. This behavior will be deprecated in transformers v4.45, and will be then set to `False` by default. For more details check this issue: https://github.com/huggingface/transformers/issues/31884\n",
      "  warnings.warn(\n"
     ]
    }
   ],
   "source": [
    "import pandas as pd\n",
    "from sentence_transformers import SentenceTransformer\n",
    "from sklearn.metrics.pairwise import cosine_similarity\n",
    "import gradio as gr\n",
    "\n",
    "\n",
    "\n",
    "# Initialize the SentenceTransformer model\n",
    "model = SentenceTransformer('all-MiniLM-L6-v2')\n",
    "\n",
    "# Create embeddings for Titles and Tags\n",
    "title_embeddings = model.encode(data['Title'].tolist(), convert_to_tensor=True)\n",
    "tags_embeddings = model.encode(data['Tags'].tolist(), convert_to_tensor=True)\n",
    "\n",
    "# Calculate cosine similarity for titles and tags\n",
    "similarity_title = cosine_similarity(title_embeddings)\n",
    "similarity_tags = cosine_similarity(tags_embeddings)\n",
    "def recommend_courses(title):\n",
    "    # Normalize the input title\n",
    "    title = title.lower().strip()\n",
    "    \n",
    "    # Check if the course exists (normalize titles)\n",
    "    if title not in data['Title'].str.lower().values:\n",
    "        return \"This course does not exist.\"\n",
    "\n",
    "    course_index = data[data['Title'].str.lower() == title].index[0]\n",
    "    \n",
    "    # Get the similarity scores for tags\n",
    "    distances = similarity_tags[course_index]\n",
    "    \n",
    "    # Sort and get top 3 recommendations (excluding the course itself)\n",
    "    course_list = sorted(list(enumerate(distances)), key=lambda x: x[1], reverse=True)[1:4]\n",
    "    \n",
    "    recommended_courses = [data.iloc[i[0]]['Title'] for i in course_list]\n",
    "    \n",
    "    return recommended_courses\n",
    "\n",
    "# def recommend_courses(title):\n",
    "#     # Check if the course exists\n",
    "#     if title not in data['Title'].values:\n",
    "#         return \"This course does not exist.\"\n",
    "\n",
    "#     course_index = data[data['Title'] == title].index[0]\n",
    "    \n",
    "#     # Get the similarity scores for both titles and tags\n",
    "#     title_distances = similarity_title[course_index]\n",
    "#     tags_distances = similarity_tags[course_index]\n",
    "    \n",
    "#     # Combine distances\n",
    "#     combined_distances = title_distances + tags_distances\n",
    "    \n",
    "#     # Sort and get top 3 recommendations (excluding the course itself)\n",
    "#     course_list = sorted(list(enumerate(combined_distances)), key=lambda x: x[1], reverse=True)[1:4]\n",
    "    \n",
    "#     recommended_courses =[data.iloc[i[0]]['Title'] for i in course_list]\n",
    "    \n",
    "#     return recommended_courses\n",
    "\n"
   ]
  },
  {
   "cell_type": "code",
   "execution_count": 18,
   "metadata": {},
   "outputs": [
    {
     "name": "stdout",
     "output_type": "stream",
     "text": [
      "Available Courses: ['Improving Real World RAG Systems: Key Challenges & Practical Solutions', 'Framework to Choose the Right LLM for your Business', 'Generative AI - A Way of Life', 'Building LLM Applications using Prompt Engineering -', 'Bagging and Boosting ML Algorithms - Free Course', 'Understanding Linear Regression - Free Course', 'Building Your First Computer Vision Model - Free Course', 'MidJourney: From Inspiration to Implementation - Free Course', 'Building Smarter LLMs with Mamba and State Space Model']\n"
     ]
    }
   ],
   "source": [
    "print(\"Available Courses:\", data['Title'].tolist())\n"
   ]
  },
  {
   "cell_type": "code",
   "execution_count": 13,
   "metadata": {},
   "outputs": [
    {
     "name": "stderr",
     "output_type": "stream",
     "text": [
      "c:\\Users\\deepi\\AppData\\Local\\Programs\\Python\\Python311\\Lib\\site-packages\\transformers\\tokenization_utils_base.py:1617: FutureWarning: `clean_up_tokenization_spaces` was not set. It will be set to `True` by default. This behavior will be deprecated in transformers v4.45, and will be then set to `False` by default. For more details check this issue: https://github.com/huggingface/transformers/issues/31884\n",
      "  warnings.warn(\n"
     ]
    },
    {
     "name": "stdout",
     "output_type": "stream",
     "text": [
      "Running on local URL:  http://127.0.0.1:7863\n",
      "\n",
      "To create a public link, set `share=True` in `launch()`.\n"
     ]
    },
    {
     "data": {
      "text/html": [
       "<div><iframe src=\"http://127.0.0.1:7863/\" width=\"100%\" height=\"500\" allow=\"autoplay; camera; microphone; clipboard-read; clipboard-write;\" frameborder=\"0\" allowfullscreen></iframe></div>"
      ],
      "text/plain": [
       "<IPython.core.display.HTML object>"
      ]
     },
     "metadata": {},
     "output_type": "display_data"
    },
    {
     "data": {
      "text/plain": []
     },
     "execution_count": 13,
     "metadata": {},
     "output_type": "execute_result"
    }
   ],
   "source": [
    "def gradio_interface(course_title):\n",
    "    recommendations = recommend_courses(course_title)\n",
    "    return recommendations\n",
    "\n",
    "# Launch Gradio Interface\n",
    "interface = gr.Interface(fn=gradio_interface,\n",
    "                         inputs=\"text\",\n",
    "                         outputs=\"text\",\n",
    "                         title=\"Course Recommendation System\",\n",
    "                         description=\"Enter a course title to get similar course recommendations.\")\n",
    "\n",
    "interface.launch()\n",
    "\n"
   ]
  },
  {
   "cell_type": "code",
   "execution_count": null,
   "metadata": {},
   "outputs": [],
   "source": []
  }
 ],
 "metadata": {
  "kernelspec": {
   "display_name": "Python 3",
   "language": "python",
   "name": "python3"
  },
  "language_info": {
   "codemirror_mode": {
    "name": "ipython",
    "version": 3
   },
   "file_extension": ".py",
   "mimetype": "text/x-python",
   "name": "python",
   "nbconvert_exporter": "python",
   "pygments_lexer": "ipython3",
   "version": "3.11.5"
  }
 },
 "nbformat": 4,
 "nbformat_minor": 2
}
